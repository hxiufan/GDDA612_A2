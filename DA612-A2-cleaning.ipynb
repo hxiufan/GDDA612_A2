{
 "cells": [
  {
   "cell_type": "code",
   "execution_count": 1,
   "metadata": {
    "colab": {
     "base_uri": "https://localhost:8080/"
    },
    "executionInfo": {
     "elapsed": 21065,
     "status": "ok",
     "timestamp": 1722044815777,
     "user": {
      "displayName": "Xiufan Huang (Jess)",
      "userId": "18247124143016819924"
     },
     "user_tz": -720
    },
    "id": "f_WDqp7j3fka",
    "outputId": "656c94b0-cdf9-49cc-9a72-3d7e2455c486"
   },
   "outputs": [
    {
     "name": "stdout",
     "output_type": "stream",
     "text": [
      "Mounted at /content/drive\n"
     ]
    }
   ],
   "source": [
    "from google.colab import drive\n",
    "drive.mount('/content/drive')"
   ]
  },
  {
   "cell_type": "markdown",
   "metadata": {
    "id": "qpr8FPAc36f4"
   },
   "source": [
    "Dataset link: https://www.kaggle.com/datasets/shriyashjagtap/e-commerce-customer-for-behavior-analysis?select=ecommerce_customer_data_custom_ratios.csv"
   ]
  },
  {
   "cell_type": "code",
   "execution_count": 3,
   "metadata": {
    "executionInfo": {
     "elapsed": 1775,
     "status": "ok",
     "timestamp": 1722044855105,
     "user": {
      "displayName": "Xiufan Huang (Jess)",
      "userId": "18247124143016819924"
     },
     "user_tz": -720
    },
    "id": "ASvMZJ-b3tQA"
   },
   "outputs": [],
   "source": [
    "#data = pd.read_csv('/content/drive/MyDrive/DA612/ecommerce_customer_data_custom_ratios.csv')\n"
   ]
  },
  {
   "cell_type": "code",
   "execution_count": 4,
   "metadata": {},
   "outputs": [
    {
     "name": "stdout",
     "output_type": "stream",
     "text": [
      "Collecting cleanlab\n",
      "  Downloading cleanlab-2.6.6-py3-none-any.whl.metadata (63 kB)\n",
      "     ---------------------------------------- 0.0/63.3 kB ? eta -:--:--\n",
      "     ------ --------------------------------- 10.2/63.3 kB ? eta -:--:--\n",
      "     ------------------ ------------------- 30.7/63.3 kB 330.3 kB/s eta 0:00:01\n",
      "     ------------------------------------ - 61.4/63.3 kB 544.7 kB/s eta 0:00:01\n",
      "     -------------------------------------- 63.3/63.3 kB 424.8 kB/s eta 0:00:00\n",
      "Requirement already satisfied: numpy~=1.22 in c:\\users\\hxiuf\\anaconda3\\lib\\site-packages (from cleanlab) (1.26.4)\n",
      "Requirement already satisfied: scikit-learn>=1.1 in c:\\users\\hxiuf\\anaconda3\\lib\\site-packages (from cleanlab) (1.4.2)\n",
      "Requirement already satisfied: tqdm>=4.53.0 in c:\\users\\hxiuf\\anaconda3\\lib\\site-packages (from cleanlab) (4.66.4)\n",
      "Requirement already satisfied: pandas>=1.4.0 in c:\\users\\hxiuf\\anaconda3\\lib\\site-packages (from cleanlab) (2.2.2)\n",
      "Collecting termcolor>=2.4.0 (from cleanlab)\n",
      "  Downloading termcolor-2.4.0-py3-none-any.whl.metadata (6.1 kB)\n",
      "Requirement already satisfied: python-dateutil>=2.8.2 in c:\\users\\hxiuf\\anaconda3\\lib\\site-packages (from pandas>=1.4.0->cleanlab) (2.9.0.post0)\n",
      "Requirement already satisfied: pytz>=2020.1 in c:\\users\\hxiuf\\anaconda3\\lib\\site-packages (from pandas>=1.4.0->cleanlab) (2024.1)\n",
      "Requirement already satisfied: tzdata>=2022.7 in c:\\users\\hxiuf\\anaconda3\\lib\\site-packages (from pandas>=1.4.0->cleanlab) (2023.3)\n",
      "Requirement already satisfied: scipy>=1.6.0 in c:\\users\\hxiuf\\anaconda3\\lib\\site-packages (from scikit-learn>=1.1->cleanlab) (1.13.1)\n",
      "Requirement already satisfied: joblib>=1.2.0 in c:\\users\\hxiuf\\anaconda3\\lib\\site-packages (from scikit-learn>=1.1->cleanlab) (1.4.2)\n",
      "Requirement already satisfied: threadpoolctl>=2.0.0 in c:\\users\\hxiuf\\anaconda3\\lib\\site-packages (from scikit-learn>=1.1->cleanlab) (2.2.0)\n",
      "Requirement already satisfied: colorama in c:\\users\\hxiuf\\anaconda3\\lib\\site-packages (from tqdm>=4.53.0->cleanlab) (0.4.6)\n",
      "Requirement already satisfied: six>=1.5 in c:\\users\\hxiuf\\anaconda3\\lib\\site-packages (from python-dateutil>=2.8.2->pandas>=1.4.0->cleanlab) (1.16.0)\n",
      "Downloading cleanlab-2.6.6-py3-none-any.whl (353 kB)\n",
      "   ---------------------------------------- 0.0/353.6 kB ? eta -:--:--\n",
      "   --------------------------------------  348.2/353.6 kB 22.5 MB/s eta 0:00:01\n",
      "   ---------------------------------------- 353.6/353.6 kB 5.5 MB/s eta 0:00:00\n",
      "Downloading termcolor-2.4.0-py3-none-any.whl (7.7 kB)\n",
      "Installing collected packages: termcolor, cleanlab\n",
      "Successfully installed cleanlab-2.6.6 termcolor-2.4.0\n"
     ]
    }
   ],
   "source": [
    "!pip install cleanlab"
   ]
  },
  {
   "cell_type": "code",
   "execution_count": 2,
   "metadata": {
    "executionInfo": {
     "elapsed": 932,
     "status": "ok",
     "timestamp": 1722044821705,
     "user": {
      "displayName": "Xiufan Huang (Jess)",
      "userId": "18247124143016819924"
     },
     "user_tz": -720
    },
    "id": "hOiOJgj03qMO"
   },
   "outputs": [],
   "source": [
    "import pandas as pd\n",
    "import numpy as np"
   ]
  },
  {
   "cell_type": "code",
   "execution_count": 8,
   "metadata": {},
   "outputs": [],
   "source": [
    "data = pd.read_csv('ecommerce_customer_data_custom_ratios.csv')"
   ]
  },
  {
   "cell_type": "code",
   "execution_count": 8,
   "metadata": {
    "colab": {
     "base_uri": "https://localhost:8080/",
     "height": 206
    },
    "executionInfo": {
     "elapsed": 418,
     "status": "ok",
     "timestamp": 1722044923317,
     "user": {
      "displayName": "Xiufan Huang (Jess)",
      "userId": "18247124143016819924"
     },
     "user_tz": -720
    },
    "id": "CqZxosS14CZ4",
    "outputId": "c3832a84-8fb1-48f5-ff99-9e25dceed1e4"
   },
   "outputs": [
    {
     "data": {
      "text/html": [
       "<div>\n",
       "<style scoped>\n",
       "    .dataframe tbody tr th:only-of-type {\n",
       "        vertical-align: middle;\n",
       "    }\n",
       "\n",
       "    .dataframe tbody tr th {\n",
       "        vertical-align: top;\n",
       "    }\n",
       "\n",
       "    .dataframe thead th {\n",
       "        text-align: right;\n",
       "    }\n",
       "</style>\n",
       "<table border=\"1\" class=\"dataframe\">\n",
       "  <thead>\n",
       "    <tr style=\"text-align: right;\">\n",
       "      <th></th>\n",
       "      <th>Customer ID</th>\n",
       "      <th>Purchase Date</th>\n",
       "      <th>Product Category</th>\n",
       "      <th>Product Price</th>\n",
       "      <th>Quantity</th>\n",
       "      <th>Total Purchase Amount</th>\n",
       "      <th>Payment Method</th>\n",
       "      <th>Customer Age</th>\n",
       "      <th>Returns</th>\n",
       "      <th>Customer Name</th>\n",
       "      <th>Age</th>\n",
       "      <th>Gender</th>\n",
       "      <th>Churn</th>\n",
       "    </tr>\n",
       "  </thead>\n",
       "  <tbody>\n",
       "    <tr>\n",
       "      <th>0</th>\n",
       "      <td>46251</td>\n",
       "      <td>2020-09-08 09:38:32</td>\n",
       "      <td>Electronics</td>\n",
       "      <td>12</td>\n",
       "      <td>3</td>\n",
       "      <td>740</td>\n",
       "      <td>Credit Card</td>\n",
       "      <td>37</td>\n",
       "      <td>0.0</td>\n",
       "      <td>Christine Hernandez</td>\n",
       "      <td>37</td>\n",
       "      <td>Male</td>\n",
       "      <td>0</td>\n",
       "    </tr>\n",
       "    <tr>\n",
       "      <th>1</th>\n",
       "      <td>46251</td>\n",
       "      <td>2022-03-05 12:56:35</td>\n",
       "      <td>Home</td>\n",
       "      <td>468</td>\n",
       "      <td>4</td>\n",
       "      <td>2739</td>\n",
       "      <td>PayPal</td>\n",
       "      <td>37</td>\n",
       "      <td>0.0</td>\n",
       "      <td>Christine Hernandez</td>\n",
       "      <td>37</td>\n",
       "      <td>Male</td>\n",
       "      <td>0</td>\n",
       "    </tr>\n",
       "    <tr>\n",
       "      <th>2</th>\n",
       "      <td>46251</td>\n",
       "      <td>2022-05-23 18:18:01</td>\n",
       "      <td>Home</td>\n",
       "      <td>288</td>\n",
       "      <td>2</td>\n",
       "      <td>3196</td>\n",
       "      <td>PayPal</td>\n",
       "      <td>37</td>\n",
       "      <td>0.0</td>\n",
       "      <td>Christine Hernandez</td>\n",
       "      <td>37</td>\n",
       "      <td>Male</td>\n",
       "      <td>0</td>\n",
       "    </tr>\n",
       "    <tr>\n",
       "      <th>3</th>\n",
       "      <td>46251</td>\n",
       "      <td>2020-11-12 13:13:29</td>\n",
       "      <td>Clothing</td>\n",
       "      <td>196</td>\n",
       "      <td>1</td>\n",
       "      <td>3509</td>\n",
       "      <td>PayPal</td>\n",
       "      <td>37</td>\n",
       "      <td>0.0</td>\n",
       "      <td>Christine Hernandez</td>\n",
       "      <td>37</td>\n",
       "      <td>Male</td>\n",
       "      <td>0</td>\n",
       "    </tr>\n",
       "    <tr>\n",
       "      <th>4</th>\n",
       "      <td>13593</td>\n",
       "      <td>2020-11-27 17:55:11</td>\n",
       "      <td>Home</td>\n",
       "      <td>449</td>\n",
       "      <td>1</td>\n",
       "      <td>3452</td>\n",
       "      <td>Credit Card</td>\n",
       "      <td>49</td>\n",
       "      <td>0.0</td>\n",
       "      <td>James Grant</td>\n",
       "      <td>49</td>\n",
       "      <td>Female</td>\n",
       "      <td>1</td>\n",
       "    </tr>\n",
       "  </tbody>\n",
       "</table>\n",
       "</div>"
      ],
      "text/plain": [
       "   Customer ID        Purchase Date Product Category  Product Price  Quantity  \\\n",
       "0        46251  2020-09-08 09:38:32      Electronics             12         3   \n",
       "1        46251  2022-03-05 12:56:35             Home            468         4   \n",
       "2        46251  2022-05-23 18:18:01             Home            288         2   \n",
       "3        46251  2020-11-12 13:13:29         Clothing            196         1   \n",
       "4        13593  2020-11-27 17:55:11             Home            449         1   \n",
       "\n",
       "   Total Purchase Amount Payment Method  Customer Age  Returns  \\\n",
       "0                    740    Credit Card            37      0.0   \n",
       "1                   2739         PayPal            37      0.0   \n",
       "2                   3196         PayPal            37      0.0   \n",
       "3                   3509         PayPal            37      0.0   \n",
       "4                   3452    Credit Card            49      0.0   \n",
       "\n",
       "         Customer Name  Age  Gender  Churn  \n",
       "0  Christine Hernandez   37    Male      0  \n",
       "1  Christine Hernandez   37    Male      0  \n",
       "2  Christine Hernandez   37    Male      0  \n",
       "3  Christine Hernandez   37    Male      0  \n",
       "4          James Grant   49  Female      1  "
      ]
     },
     "execution_count": 8,
     "metadata": {},
     "output_type": "execute_result"
    }
   ],
   "source": [
    "data.head()"
   ]
  },
  {
   "cell_type": "code",
   "execution_count": 10,
   "metadata": {
    "colab": {
     "base_uri": "https://localhost:8080/"
    },
    "executionInfo": {
     "elapsed": 351,
     "status": "ok",
     "timestamp": 1722044932235,
     "user": {
      "displayName": "Xiufan Huang (Jess)",
      "userId": "18247124143016819924"
     },
     "user_tz": -720
    },
    "id": "2EBlJB9P4Dnz",
    "outputId": "9c936c1b-fbbb-41cf-9954-c23fbf74882a"
   },
   "outputs": [
    {
     "data": {
      "text/plain": [
       "(250000, 13)"
      ]
     },
     "execution_count": 10,
     "metadata": {},
     "output_type": "execute_result"
    }
   ],
   "source": [
    "# Identify the dataframe shape\n",
    "data.shape"
   ]
  },
  {
   "cell_type": "code",
   "execution_count": 12,
   "metadata": {
    "colab": {
     "base_uri": "https://localhost:8080/"
    },
    "executionInfo": {
     "elapsed": 370,
     "status": "ok",
     "timestamp": 1722045103530,
     "user": {
      "displayName": "Xiufan Huang (Jess)",
      "userId": "18247124143016819924"
     },
     "user_tz": -720
    },
    "id": "BLBGtcEM4KvM",
    "outputId": "b5cf0e1a-2919-470a-defb-6adc1211476a"
   },
   "outputs": [
    {
     "data": {
      "text/plain": [
       "Customer ID               49673\n",
       "Purchase Date            249736\n",
       "Product Category              4\n",
       "Product Price               491\n",
       "Quantity                      5\n",
       "Total Purchase Amount      5247\n",
       "Payment Method                4\n",
       "Customer Age                 53\n",
       "Returns                       2\n",
       "Customer Name             39920\n",
       "Age                          53\n",
       "Gender                        2\n",
       "Churn                         2\n",
       "dtype: int64"
      ]
     },
     "execution_count": 12,
     "metadata": {},
     "output_type": "execute_result"
    }
   ],
   "source": [
    "# count distinct values in each column\n",
    "data.nunique()"
   ]
  },
  {
   "cell_type": "code",
   "execution_count": 10,
   "metadata": {
    "colab": {
     "base_uri": "https://localhost:8080/"
    },
    "executionInfo": {
     "elapsed": 570,
     "status": "ok",
     "timestamp": 1722045350883,
     "user": {
      "displayName": "Xiufan Huang (Jess)",
      "userId": "18247124143016819924"
     },
     "user_tz": -720
    },
    "id": "zP_wWaVM5l9m",
    "outputId": "532b9bb1-5c78-4348-fc55-cb8ae68b3bbc"
   },
   "outputs": [
    {
     "name": "stdout",
     "output_type": "stream",
     "text": [
      "<class 'pandas.core.frame.DataFrame'>\n",
      "RangeIndex: 250000 entries, 0 to 249999\n",
      "Data columns (total 13 columns):\n",
      " #   Column                 Non-Null Count   Dtype  \n",
      "---  ------                 --------------   -----  \n",
      " 0   Customer ID            250000 non-null  int64  \n",
      " 1   Purchase Date          250000 non-null  object \n",
      " 2   Product Category       250000 non-null  object \n",
      " 3   Product Price          250000 non-null  int64  \n",
      " 4   Quantity               250000 non-null  int64  \n",
      " 5   Total Purchase Amount  250000 non-null  int64  \n",
      " 6   Payment Method         250000 non-null  object \n",
      " 7   Customer Age           250000 non-null  int64  \n",
      " 8   Returns                202404 non-null  float64\n",
      " 9   Customer Name          250000 non-null  object \n",
      " 10  Age                    250000 non-null  int64  \n",
      " 11  Gender                 250000 non-null  object \n",
      " 12  Churn                  250000 non-null  int64  \n",
      "dtypes: float64(1), int64(7), object(5)\n",
      "memory usage: 24.8+ MB\n"
     ]
    }
   ],
   "source": [
    "data.info()"
   ]
  },
  {
   "cell_type": "code",
   "execution_count": 12,
   "metadata": {
    "colab": {
     "base_uri": "https://localhost:8080/"
    },
    "executionInfo": {
     "elapsed": 396,
     "status": "ok",
     "timestamp": 1722044952421,
     "user": {
      "displayName": "Xiufan Huang (Jess)",
      "userId": "18247124143016819924"
     },
     "user_tz": -720
    },
    "id": "_zaikV_f4Fv4",
    "outputId": "7cf4cb4b-9d27-4183-8854-71fc320f6747"
   },
   "outputs": [
    {
     "data": {
      "text/plain": [
       "Customer ID                  0\n",
       "Purchase Date                0\n",
       "Product Category             0\n",
       "Product Price                0\n",
       "Quantity                     0\n",
       "Total Purchase Amount        0\n",
       "Payment Method               0\n",
       "Customer Age                 0\n",
       "Returns                  47596\n",
       "Customer Name                0\n",
       "Age                          0\n",
       "Gender                       0\n",
       "Churn                        0\n",
       "dtype: int64"
      ]
     },
     "execution_count": 12,
     "metadata": {},
     "output_type": "execute_result"
    }
   ],
   "source": [
    "# Identify missing data\n",
    "data.isnull().sum()"
   ]
  },
  {
   "cell_type": "code",
   "execution_count": 14,
   "metadata": {
    "colab": {
     "base_uri": "https://localhost:8080/",
     "height": 53
    },
    "executionInfo": {
     "elapsed": 955,
     "status": "ok",
     "timestamp": 1722045165777,
     "user": {
      "displayName": "Xiufan Huang (Jess)",
      "userId": "18247124143016819924"
     },
     "user_tz": -720
    },
    "id": "rtPAbXaP45qU",
    "outputId": "1d955ccd-9064-4a22-993f-6fbf1a35bd0e"
   },
   "outputs": [
    {
     "data": {
      "text/html": [
       "<div>\n",
       "<style scoped>\n",
       "    .dataframe tbody tr th:only-of-type {\n",
       "        vertical-align: middle;\n",
       "    }\n",
       "\n",
       "    .dataframe tbody tr th {\n",
       "        vertical-align: top;\n",
       "    }\n",
       "\n",
       "    .dataframe thead th {\n",
       "        text-align: right;\n",
       "    }\n",
       "</style>\n",
       "<table border=\"1\" class=\"dataframe\">\n",
       "  <thead>\n",
       "    <tr style=\"text-align: right;\">\n",
       "      <th></th>\n",
       "      <th>Customer ID</th>\n",
       "      <th>Purchase Date</th>\n",
       "      <th>Product Category</th>\n",
       "      <th>Product Price</th>\n",
       "      <th>Quantity</th>\n",
       "      <th>Total Purchase Amount</th>\n",
       "      <th>Payment Method</th>\n",
       "      <th>Customer Age</th>\n",
       "      <th>Returns</th>\n",
       "      <th>Customer Name</th>\n",
       "      <th>Age</th>\n",
       "      <th>Gender</th>\n",
       "      <th>Churn</th>\n",
       "    </tr>\n",
       "  </thead>\n",
       "  <tbody>\n",
       "  </tbody>\n",
       "</table>\n",
       "</div>"
      ],
      "text/plain": [
       "Empty DataFrame\n",
       "Columns: [Customer ID, Purchase Date, Product Category, Product Price, Quantity, Total Purchase Amount, Payment Method, Customer Age, Returns, Customer Name, Age, Gender, Churn]\n",
       "Index: []"
      ]
     },
     "execution_count": 14,
     "metadata": {},
     "output_type": "execute_result"
    }
   ],
   "source": [
    "# Identify the duplicates, returns all duplicated rows\n",
    "data[data.duplicated(keep=False)]"
   ]
  },
  {
   "cell_type": "code",
   "execution_count": 22,
   "metadata": {
    "colab": {
     "base_uri": "https://localhost:8080/",
     "height": 424
    },
    "executionInfo": {
     "elapsed": 406,
     "status": "ok",
     "timestamp": 1722045442492,
     "user": {
      "displayName": "Xiufan Huang (Jess)",
      "userId": "18247124143016819924"
     },
     "user_tz": -720
    },
    "id": "NV2PEOgq5445",
    "outputId": "a5fd5f64-8179-4654-be7a-fefe96b1cce4"
   },
   "outputs": [
    {
     "data": {
      "text/html": [
       "<div>\n",
       "<style scoped>\n",
       "    .dataframe tbody tr th:only-of-type {\n",
       "        vertical-align: middle;\n",
       "    }\n",
       "\n",
       "    .dataframe tbody tr th {\n",
       "        vertical-align: top;\n",
       "    }\n",
       "\n",
       "    .dataframe thead th {\n",
       "        text-align: right;\n",
       "    }\n",
       "</style>\n",
       "<table border=\"1\" class=\"dataframe\">\n",
       "  <thead>\n",
       "    <tr style=\"text-align: right;\">\n",
       "      <th></th>\n",
       "      <th>Customer ID</th>\n",
       "      <th>Purchase Date</th>\n",
       "      <th>Product Category</th>\n",
       "      <th>Product Price</th>\n",
       "      <th>Quantity</th>\n",
       "      <th>Total Purchase Amount</th>\n",
       "      <th>Payment Method</th>\n",
       "      <th>Customer Age</th>\n",
       "      <th>Returns</th>\n",
       "      <th>Customer Name</th>\n",
       "      <th>Age</th>\n",
       "      <th>Gender</th>\n",
       "      <th>Churn</th>\n",
       "    </tr>\n",
       "  </thead>\n",
       "  <tbody>\n",
       "    <tr>\n",
       "      <th>0</th>\n",
       "      <td>46251</td>\n",
       "      <td>2020-09-08 09:38:32</td>\n",
       "      <td>Electronics</td>\n",
       "      <td>12</td>\n",
       "      <td>3</td>\n",
       "      <td>740</td>\n",
       "      <td>Credit Card</td>\n",
       "      <td>37</td>\n",
       "      <td>0.0</td>\n",
       "      <td>Christine Hernandez</td>\n",
       "      <td>37</td>\n",
       "      <td>Male</td>\n",
       "      <td>0</td>\n",
       "    </tr>\n",
       "    <tr>\n",
       "      <th>1</th>\n",
       "      <td>46251</td>\n",
       "      <td>2022-03-05 12:56:35</td>\n",
       "      <td>Home</td>\n",
       "      <td>468</td>\n",
       "      <td>4</td>\n",
       "      <td>2739</td>\n",
       "      <td>PayPal</td>\n",
       "      <td>37</td>\n",
       "      <td>0.0</td>\n",
       "      <td>Christine Hernandez</td>\n",
       "      <td>37</td>\n",
       "      <td>Male</td>\n",
       "      <td>0</td>\n",
       "    </tr>\n",
       "    <tr>\n",
       "      <th>2</th>\n",
       "      <td>46251</td>\n",
       "      <td>2022-05-23 18:18:01</td>\n",
       "      <td>Home</td>\n",
       "      <td>288</td>\n",
       "      <td>2</td>\n",
       "      <td>3196</td>\n",
       "      <td>PayPal</td>\n",
       "      <td>37</td>\n",
       "      <td>0.0</td>\n",
       "      <td>Christine Hernandez</td>\n",
       "      <td>37</td>\n",
       "      <td>Male</td>\n",
       "      <td>0</td>\n",
       "    </tr>\n",
       "    <tr>\n",
       "      <th>3</th>\n",
       "      <td>46251</td>\n",
       "      <td>2020-11-12 13:13:29</td>\n",
       "      <td>Clothing</td>\n",
       "      <td>196</td>\n",
       "      <td>1</td>\n",
       "      <td>3509</td>\n",
       "      <td>PayPal</td>\n",
       "      <td>37</td>\n",
       "      <td>0.0</td>\n",
       "      <td>Christine Hernandez</td>\n",
       "      <td>37</td>\n",
       "      <td>Male</td>\n",
       "      <td>0</td>\n",
       "    </tr>\n",
       "    <tr>\n",
       "      <th>4</th>\n",
       "      <td>13593</td>\n",
       "      <td>2020-11-27 17:55:11</td>\n",
       "      <td>Home</td>\n",
       "      <td>449</td>\n",
       "      <td>1</td>\n",
       "      <td>3452</td>\n",
       "      <td>Credit Card</td>\n",
       "      <td>49</td>\n",
       "      <td>0.0</td>\n",
       "      <td>James Grant</td>\n",
       "      <td>49</td>\n",
       "      <td>Female</td>\n",
       "      <td>1</td>\n",
       "    </tr>\n",
       "    <tr>\n",
       "      <th>...</th>\n",
       "      <td>...</td>\n",
       "      <td>...</td>\n",
       "      <td>...</td>\n",
       "      <td>...</td>\n",
       "      <td>...</td>\n",
       "      <td>...</td>\n",
       "      <td>...</td>\n",
       "      <td>...</td>\n",
       "      <td>...</td>\n",
       "      <td>...</td>\n",
       "      <td>...</td>\n",
       "      <td>...</td>\n",
       "      <td>...</td>\n",
       "    </tr>\n",
       "    <tr>\n",
       "      <th>249995</th>\n",
       "      <td>33308</td>\n",
       "      <td>2023-08-10 13:39:06</td>\n",
       "      <td>Clothing</td>\n",
       "      <td>279</td>\n",
       "      <td>2</td>\n",
       "      <td>2187</td>\n",
       "      <td>PayPal</td>\n",
       "      <td>55</td>\n",
       "      <td>1.0</td>\n",
       "      <td>Michelle Flores</td>\n",
       "      <td>55</td>\n",
       "      <td>Male</td>\n",
       "      <td>1</td>\n",
       "    </tr>\n",
       "    <tr>\n",
       "      <th>249996</th>\n",
       "      <td>48835</td>\n",
       "      <td>2021-11-23 01:30:42</td>\n",
       "      <td>Home</td>\n",
       "      <td>27</td>\n",
       "      <td>1</td>\n",
       "      <td>3615</td>\n",
       "      <td>Credit Card</td>\n",
       "      <td>42</td>\n",
       "      <td>1.0</td>\n",
       "      <td>Jeremy Rush</td>\n",
       "      <td>42</td>\n",
       "      <td>Female</td>\n",
       "      <td>1</td>\n",
       "    </tr>\n",
       "    <tr>\n",
       "      <th>249997</th>\n",
       "      <td>21019</td>\n",
       "      <td>2020-07-02 14:04:48</td>\n",
       "      <td>Home</td>\n",
       "      <td>17</td>\n",
       "      <td>5</td>\n",
       "      <td>2466</td>\n",
       "      <td>Cash</td>\n",
       "      <td>41</td>\n",
       "      <td>0.0</td>\n",
       "      <td>Tina Craig</td>\n",
       "      <td>41</td>\n",
       "      <td>Male</td>\n",
       "      <td>0</td>\n",
       "    </tr>\n",
       "    <tr>\n",
       "      <th>249998</th>\n",
       "      <td>49234</td>\n",
       "      <td>2020-12-30 02:02:40</td>\n",
       "      <td>Books</td>\n",
       "      <td>398</td>\n",
       "      <td>2</td>\n",
       "      <td>3668</td>\n",
       "      <td>Crypto</td>\n",
       "      <td>34</td>\n",
       "      <td>0.0</td>\n",
       "      <td>Jennifer Cooper</td>\n",
       "      <td>34</td>\n",
       "      <td>Female</td>\n",
       "      <td>1</td>\n",
       "    </tr>\n",
       "    <tr>\n",
       "      <th>249999</th>\n",
       "      <td>16971</td>\n",
       "      <td>2021-03-13 16:28:35</td>\n",
       "      <td>Electronics</td>\n",
       "      <td>425</td>\n",
       "      <td>4</td>\n",
       "      <td>2370</td>\n",
       "      <td>Cash</td>\n",
       "      <td>36</td>\n",
       "      <td>1.0</td>\n",
       "      <td>Justin Lawson</td>\n",
       "      <td>36</td>\n",
       "      <td>Female</td>\n",
       "      <td>1</td>\n",
       "    </tr>\n",
       "  </tbody>\n",
       "</table>\n",
       "<p>202404 rows × 13 columns</p>\n",
       "</div>"
      ],
      "text/plain": [
       "        Customer ID        Purchase Date Product Category  Product Price  \\\n",
       "0             46251  2020-09-08 09:38:32      Electronics             12   \n",
       "1             46251  2022-03-05 12:56:35             Home            468   \n",
       "2             46251  2022-05-23 18:18:01             Home            288   \n",
       "3             46251  2020-11-12 13:13:29         Clothing            196   \n",
       "4             13593  2020-11-27 17:55:11             Home            449   \n",
       "...             ...                  ...              ...            ...   \n",
       "249995        33308  2023-08-10 13:39:06         Clothing            279   \n",
       "249996        48835  2021-11-23 01:30:42             Home             27   \n",
       "249997        21019  2020-07-02 14:04:48             Home             17   \n",
       "249998        49234  2020-12-30 02:02:40            Books            398   \n",
       "249999        16971  2021-03-13 16:28:35      Electronics            425   \n",
       "\n",
       "        Quantity  Total Purchase Amount Payment Method  Customer Age  Returns  \\\n",
       "0              3                    740    Credit Card            37      0.0   \n",
       "1              4                   2739         PayPal            37      0.0   \n",
       "2              2                   3196         PayPal            37      0.0   \n",
       "3              1                   3509         PayPal            37      0.0   \n",
       "4              1                   3452    Credit Card            49      0.0   \n",
       "...          ...                    ...            ...           ...      ...   \n",
       "249995         2                   2187         PayPal            55      1.0   \n",
       "249996         1                   3615    Credit Card            42      1.0   \n",
       "249997         5                   2466           Cash            41      0.0   \n",
       "249998         2                   3668         Crypto            34      0.0   \n",
       "249999         4                   2370           Cash            36      1.0   \n",
       "\n",
       "              Customer Name  Age  Gender  Churn  \n",
       "0       Christine Hernandez   37    Male      0  \n",
       "1       Christine Hernandez   37    Male      0  \n",
       "2       Christine Hernandez   37    Male      0  \n",
       "3       Christine Hernandez   37    Male      0  \n",
       "4               James Grant   49  Female      1  \n",
       "...                     ...  ...     ...    ...  \n",
       "249995      Michelle Flores   55    Male      1  \n",
       "249996          Jeremy Rush   42  Female      1  \n",
       "249997           Tina Craig   41    Male      0  \n",
       "249998      Jennifer Cooper   34  Female      1  \n",
       "249999        Justin Lawson   36  Female      1  \n",
       "\n",
       "[202404 rows x 13 columns]"
      ]
     },
     "execution_count": 22,
     "metadata": {},
     "output_type": "execute_result"
    }
   ],
   "source": [
    "# Display the rows where \"Returns\" is not null\n",
    "data[data['Returns'].notnull()]"
   ]
  },
  {
   "cell_type": "code",
   "execution_count": 24,
   "metadata": {
    "executionInfo": {
     "elapsed": 371,
     "status": "ok",
     "timestamp": 1722045457180,
     "user": {
      "displayName": "Xiufan Huang (Jess)",
      "userId": "18247124143016819924"
     },
     "user_tz": -720
    },
    "id": "8Noma0Cb4-rm"
   },
   "outputs": [],
   "source": [
    "# Handle missing value in \"Returns\" column\n",
    "data['Returns'] = data['Returns'].fillna(0)"
   ]
  },
  {
   "cell_type": "code",
   "execution_count": 26,
   "metadata": {
    "colab": {
     "base_uri": "https://localhost:8080/"
    },
    "executionInfo": {
     "elapsed": 400,
     "status": "ok",
     "timestamp": 1722045485116,
     "user": {
      "displayName": "Xiufan Huang (Jess)",
      "userId": "18247124143016819924"
     },
     "user_tz": -720
    },
    "id": "dGPJaO3h6G9i",
    "outputId": "743a6c59-52f5-4f04-ecee-60ec77a454cc"
   },
   "outputs": [
    {
     "data": {
      "text/plain": [
       "0         0.0\n",
       "1         0.0\n",
       "2         0.0\n",
       "3         0.0\n",
       "4         0.0\n",
       "         ... \n",
       "249995    1.0\n",
       "249996    1.0\n",
       "249997    0.0\n",
       "249998    0.0\n",
       "249999    1.0\n",
       "Name: Returns, Length: 250000, dtype: float64"
      ]
     },
     "execution_count": 26,
     "metadata": {},
     "output_type": "execute_result"
    }
   ],
   "source": [
    "data['Returns']"
   ]
  },
  {
   "cell_type": "code",
   "execution_count": 30,
   "metadata": {
    "colab": {
     "base_uri": "https://localhost:8080/"
    },
    "executionInfo": {
     "elapsed": 347,
     "status": "ok",
     "timestamp": 1722045514904,
     "user": {
      "displayName": "Xiufan Huang (Jess)",
      "userId": "18247124143016819924"
     },
     "user_tz": -720
    },
    "id": "WnMqWjAz6Mx_",
    "outputId": "b26e25a5-f76b-4805-a4b8-4544bb9a6641"
   },
   "outputs": [
    {
     "data": {
      "text/plain": [
       "array([0., 1.])"
      ]
     },
     "execution_count": 30,
     "metadata": {},
     "output_type": "execute_result"
    }
   ],
   "source": [
    "data['Returns'].unique()"
   ]
  },
  {
   "cell_type": "code",
   "execution_count": 28,
   "metadata": {
    "colab": {
     "base_uri": "https://localhost:8080/"
    },
    "executionInfo": {
     "elapsed": 389,
     "status": "ok",
     "timestamp": 1722045536480,
     "user": {
      "displayName": "Xiufan Huang (Jess)",
      "userId": "18247124143016819924"
     },
     "user_tz": -720
    },
    "id": "K6ZXOkA26UEx",
    "outputId": "5a15bbf5-4ccc-49e2-e43d-9bbd43446c3d"
   },
   "outputs": [
    {
     "data": {
      "text/plain": [
       "Customer ID              0\n",
       "Purchase Date            0\n",
       "Product Category         0\n",
       "Product Price            0\n",
       "Quantity                 0\n",
       "Total Purchase Amount    0\n",
       "Payment Method           0\n",
       "Customer Age             0\n",
       "Returns                  0\n",
       "Customer Name            0\n",
       "Age                      0\n",
       "Gender                   0\n",
       "Churn                    0\n",
       "dtype: int64"
      ]
     },
     "execution_count": 28,
     "metadata": {},
     "output_type": "execute_result"
    }
   ],
   "source": [
    "data.isnull().sum()"
   ]
  },
  {
   "cell_type": "code",
   "execution_count": 32,
   "metadata": {
    "colab": {
     "base_uri": "https://localhost:8080/",
     "height": 206
    },
    "executionInfo": {
     "elapsed": 581,
     "status": "ok",
     "timestamp": 1722045552816,
     "user": {
      "displayName": "Xiufan Huang (Jess)",
      "userId": "18247124143016819924"
     },
     "user_tz": -720
    },
    "id": "GPy4ZhQO6b8A",
    "outputId": "ab4ce62d-e300-4a83-9b68-5cd927086e3a"
   },
   "outputs": [
    {
     "data": {
      "text/html": [
       "<div>\n",
       "<style scoped>\n",
       "    .dataframe tbody tr th:only-of-type {\n",
       "        vertical-align: middle;\n",
       "    }\n",
       "\n",
       "    .dataframe tbody tr th {\n",
       "        vertical-align: top;\n",
       "    }\n",
       "\n",
       "    .dataframe thead th {\n",
       "        text-align: right;\n",
       "    }\n",
       "</style>\n",
       "<table border=\"1\" class=\"dataframe\">\n",
       "  <thead>\n",
       "    <tr style=\"text-align: right;\">\n",
       "      <th></th>\n",
       "      <th>Customer ID</th>\n",
       "      <th>Purchase Date</th>\n",
       "      <th>Product Category</th>\n",
       "      <th>Product Price</th>\n",
       "      <th>Quantity</th>\n",
       "      <th>Total Purchase Amount</th>\n",
       "      <th>Payment Method</th>\n",
       "      <th>Customer Age</th>\n",
       "      <th>Returns</th>\n",
       "      <th>Customer Name</th>\n",
       "      <th>Age</th>\n",
       "      <th>Gender</th>\n",
       "      <th>Churn</th>\n",
       "    </tr>\n",
       "  </thead>\n",
       "  <tbody>\n",
       "    <tr>\n",
       "      <th>0</th>\n",
       "      <td>46251</td>\n",
       "      <td>2020-09-08 09:38:32</td>\n",
       "      <td>Electronics</td>\n",
       "      <td>12</td>\n",
       "      <td>3</td>\n",
       "      <td>740</td>\n",
       "      <td>Credit Card</td>\n",
       "      <td>37</td>\n",
       "      <td>0.0</td>\n",
       "      <td>Christine Hernandez</td>\n",
       "      <td>37</td>\n",
       "      <td>Male</td>\n",
       "      <td>0</td>\n",
       "    </tr>\n",
       "    <tr>\n",
       "      <th>1</th>\n",
       "      <td>46251</td>\n",
       "      <td>2022-03-05 12:56:35</td>\n",
       "      <td>Home</td>\n",
       "      <td>468</td>\n",
       "      <td>4</td>\n",
       "      <td>2739</td>\n",
       "      <td>PayPal</td>\n",
       "      <td>37</td>\n",
       "      <td>0.0</td>\n",
       "      <td>Christine Hernandez</td>\n",
       "      <td>37</td>\n",
       "      <td>Male</td>\n",
       "      <td>0</td>\n",
       "    </tr>\n",
       "    <tr>\n",
       "      <th>2</th>\n",
       "      <td>46251</td>\n",
       "      <td>2022-05-23 18:18:01</td>\n",
       "      <td>Home</td>\n",
       "      <td>288</td>\n",
       "      <td>2</td>\n",
       "      <td>3196</td>\n",
       "      <td>PayPal</td>\n",
       "      <td>37</td>\n",
       "      <td>0.0</td>\n",
       "      <td>Christine Hernandez</td>\n",
       "      <td>37</td>\n",
       "      <td>Male</td>\n",
       "      <td>0</td>\n",
       "    </tr>\n",
       "    <tr>\n",
       "      <th>3</th>\n",
       "      <td>46251</td>\n",
       "      <td>2020-11-12 13:13:29</td>\n",
       "      <td>Clothing</td>\n",
       "      <td>196</td>\n",
       "      <td>1</td>\n",
       "      <td>3509</td>\n",
       "      <td>PayPal</td>\n",
       "      <td>37</td>\n",
       "      <td>0.0</td>\n",
       "      <td>Christine Hernandez</td>\n",
       "      <td>37</td>\n",
       "      <td>Male</td>\n",
       "      <td>0</td>\n",
       "    </tr>\n",
       "    <tr>\n",
       "      <th>4</th>\n",
       "      <td>13593</td>\n",
       "      <td>2020-11-27 17:55:11</td>\n",
       "      <td>Home</td>\n",
       "      <td>449</td>\n",
       "      <td>1</td>\n",
       "      <td>3452</td>\n",
       "      <td>Credit Card</td>\n",
       "      <td>49</td>\n",
       "      <td>0.0</td>\n",
       "      <td>James Grant</td>\n",
       "      <td>49</td>\n",
       "      <td>Female</td>\n",
       "      <td>1</td>\n",
       "    </tr>\n",
       "  </tbody>\n",
       "</table>\n",
       "</div>"
      ],
      "text/plain": [
       "   Customer ID        Purchase Date Product Category  Product Price  Quantity  \\\n",
       "0        46251  2020-09-08 09:38:32      Electronics             12         3   \n",
       "1        46251  2022-03-05 12:56:35             Home            468         4   \n",
       "2        46251  2022-05-23 18:18:01             Home            288         2   \n",
       "3        46251  2020-11-12 13:13:29         Clothing            196         1   \n",
       "4        13593  2020-11-27 17:55:11             Home            449         1   \n",
       "\n",
       "   Total Purchase Amount Payment Method  Customer Age  Returns  \\\n",
       "0                    740    Credit Card            37      0.0   \n",
       "1                   2739         PayPal            37      0.0   \n",
       "2                   3196         PayPal            37      0.0   \n",
       "3                   3509         PayPal            37      0.0   \n",
       "4                   3452    Credit Card            49      0.0   \n",
       "\n",
       "         Customer Name  Age  Gender  Churn  \n",
       "0  Christine Hernandez   37    Male      0  \n",
       "1  Christine Hernandez   37    Male      0  \n",
       "2  Christine Hernandez   37    Male      0  \n",
       "3  Christine Hernandez   37    Male      0  \n",
       "4          James Grant   49  Female      1  "
      ]
     },
     "execution_count": 32,
     "metadata": {},
     "output_type": "execute_result"
    }
   ],
   "source": [
    "data.head()"
   ]
  },
  {
   "cell_type": "code",
   "execution_count": 34,
   "metadata": {
    "executionInfo": {
     "elapsed": 366,
     "status": "ok",
     "timestamp": 1722045775275,
     "user": {
      "displayName": "Xiufan Huang (Jess)",
      "userId": "18247124143016819924"
     },
     "user_tz": -720
    },
    "id": "6rg60aJe6dRZ"
   },
   "outputs": [],
   "source": [
    "# Filter the rows where \"Returns\" = 1, save to a new dataframe\n",
    "data_return = data[data['Returns'] == 1]"
   ]
  },
  {
   "cell_type": "code",
   "execution_count": 36,
   "metadata": {
    "colab": {
     "base_uri": "https://localhost:8080/",
     "height": 206
    },
    "executionInfo": {
     "elapsed": 493,
     "status": "ok",
     "timestamp": 1722045788589,
     "user": {
      "displayName": "Xiufan Huang (Jess)",
      "userId": "18247124143016819924"
     },
     "user_tz": -720
    },
    "id": "lOhQcta07VP-",
    "outputId": "effcb2ff-c38e-4ff5-9093-71199768f49d"
   },
   "outputs": [
    {
     "data": {
      "text/html": [
       "<div>\n",
       "<style scoped>\n",
       "    .dataframe tbody tr th:only-of-type {\n",
       "        vertical-align: middle;\n",
       "    }\n",
       "\n",
       "    .dataframe tbody tr th {\n",
       "        vertical-align: top;\n",
       "    }\n",
       "\n",
       "    .dataframe thead th {\n",
       "        text-align: right;\n",
       "    }\n",
       "</style>\n",
       "<table border=\"1\" class=\"dataframe\">\n",
       "  <thead>\n",
       "    <tr style=\"text-align: right;\">\n",
       "      <th></th>\n",
       "      <th>Customer ID</th>\n",
       "      <th>Purchase Date</th>\n",
       "      <th>Product Category</th>\n",
       "      <th>Product Price</th>\n",
       "      <th>Quantity</th>\n",
       "      <th>Total Purchase Amount</th>\n",
       "      <th>Payment Method</th>\n",
       "      <th>Customer Age</th>\n",
       "      <th>Returns</th>\n",
       "      <th>Customer Name</th>\n",
       "      <th>Age</th>\n",
       "      <th>Gender</th>\n",
       "      <th>Churn</th>\n",
       "    </tr>\n",
       "  </thead>\n",
       "  <tbody>\n",
       "    <tr>\n",
       "      <th>5</th>\n",
       "      <td>13593</td>\n",
       "      <td>2023-03-07 14:17:42</td>\n",
       "      <td>Home</td>\n",
       "      <td>250</td>\n",
       "      <td>4</td>\n",
       "      <td>575</td>\n",
       "      <td>PayPal</td>\n",
       "      <td>49</td>\n",
       "      <td>1.0</td>\n",
       "      <td>James Grant</td>\n",
       "      <td>49</td>\n",
       "      <td>Female</td>\n",
       "      <td>1</td>\n",
       "    </tr>\n",
       "    <tr>\n",
       "      <th>8</th>\n",
       "      <td>13593</td>\n",
       "      <td>2020-05-05 20:14:00</td>\n",
       "      <td>Clothing</td>\n",
       "      <td>182</td>\n",
       "      <td>2</td>\n",
       "      <td>3363</td>\n",
       "      <td>PayPal</td>\n",
       "      <td>49</td>\n",
       "      <td>1.0</td>\n",
       "      <td>James Grant</td>\n",
       "      <td>49</td>\n",
       "      <td>Female</td>\n",
       "      <td>1</td>\n",
       "    </tr>\n",
       "    <tr>\n",
       "      <th>11</th>\n",
       "      <td>28805</td>\n",
       "      <td>2021-01-18 22:42:24</td>\n",
       "      <td>Books</td>\n",
       "      <td>348</td>\n",
       "      <td>1</td>\n",
       "      <td>2682</td>\n",
       "      <td>Credit Card</td>\n",
       "      <td>19</td>\n",
       "      <td>1.0</td>\n",
       "      <td>Jose Collier</td>\n",
       "      <td>19</td>\n",
       "      <td>Male</td>\n",
       "      <td>0</td>\n",
       "    </tr>\n",
       "    <tr>\n",
       "      <th>18</th>\n",
       "      <td>28961</td>\n",
       "      <td>2021-09-10 00:39:41</td>\n",
       "      <td>Books</td>\n",
       "      <td>489</td>\n",
       "      <td>3</td>\n",
       "      <td>2213</td>\n",
       "      <td>Credit Card</td>\n",
       "      <td>55</td>\n",
       "      <td>1.0</td>\n",
       "      <td>James Stein</td>\n",
       "      <td>55</td>\n",
       "      <td>Male</td>\n",
       "      <td>0</td>\n",
       "    </tr>\n",
       "    <tr>\n",
       "      <th>19</th>\n",
       "      <td>28961</td>\n",
       "      <td>2023-06-01 19:07:10</td>\n",
       "      <td>Books</td>\n",
       "      <td>232</td>\n",
       "      <td>3</td>\n",
       "      <td>4452</td>\n",
       "      <td>PayPal</td>\n",
       "      <td>55</td>\n",
       "      <td>1.0</td>\n",
       "      <td>James Stein</td>\n",
       "      <td>55</td>\n",
       "      <td>Male</td>\n",
       "      <td>0</td>\n",
       "    </tr>\n",
       "  </tbody>\n",
       "</table>\n",
       "</div>"
      ],
      "text/plain": [
       "    Customer ID        Purchase Date Product Category  Product Price  \\\n",
       "5         13593  2023-03-07 14:17:42             Home            250   \n",
       "8         13593  2020-05-05 20:14:00         Clothing            182   \n",
       "11        28805  2021-01-18 22:42:24            Books            348   \n",
       "18        28961  2021-09-10 00:39:41            Books            489   \n",
       "19        28961  2023-06-01 19:07:10            Books            232   \n",
       "\n",
       "    Quantity  Total Purchase Amount Payment Method  Customer Age  Returns  \\\n",
       "5          4                    575         PayPal            49      1.0   \n",
       "8          2                   3363         PayPal            49      1.0   \n",
       "11         1                   2682    Credit Card            19      1.0   \n",
       "18         3                   2213    Credit Card            55      1.0   \n",
       "19         3                   4452         PayPal            55      1.0   \n",
       "\n",
       "   Customer Name  Age  Gender  Churn  \n",
       "5    James Grant   49  Female      1  \n",
       "8    James Grant   49  Female      1  \n",
       "11  Jose Collier   19    Male      0  \n",
       "18   James Stein   55    Male      0  \n",
       "19   James Stein   55    Male      0  "
      ]
     },
     "execution_count": 36,
     "metadata": {},
     "output_type": "execute_result"
    }
   ],
   "source": [
    "data_return.head()"
   ]
  },
  {
   "cell_type": "code",
   "execution_count": 38,
   "metadata": {
    "colab": {
     "base_uri": "https://localhost:8080/"
    },
    "executionInfo": {
     "elapsed": 445,
     "status": "ok",
     "timestamp": 1722045800654,
     "user": {
      "displayName": "Xiufan Huang (Jess)",
      "userId": "18247124143016819924"
     },
     "user_tz": -720
    },
    "id": "7m6N59dl7WyT",
    "outputId": "cc0a762e-ae65-4d25-e026-89ae9722c0ad"
   },
   "outputs": [
    {
     "name": "stdout",
     "output_type": "stream",
     "text": [
      "<class 'pandas.core.frame.DataFrame'>\n",
      "Index: 100769 entries, 5 to 249999\n",
      "Data columns (total 13 columns):\n",
      " #   Column                 Non-Null Count   Dtype  \n",
      "---  ------                 --------------   -----  \n",
      " 0   Customer ID            100769 non-null  int64  \n",
      " 1   Purchase Date          100769 non-null  object \n",
      " 2   Product Category       100769 non-null  object \n",
      " 3   Product Price          100769 non-null  int64  \n",
      " 4   Quantity               100769 non-null  int64  \n",
      " 5   Total Purchase Amount  100769 non-null  int64  \n",
      " 6   Payment Method         100769 non-null  object \n",
      " 7   Customer Age           100769 non-null  int64  \n",
      " 8   Returns                100769 non-null  float64\n",
      " 9   Customer Name          100769 non-null  object \n",
      " 10  Age                    100769 non-null  int64  \n",
      " 11  Gender                 100769 non-null  object \n",
      " 12  Churn                  100769 non-null  int64  \n",
      "dtypes: float64(1), int64(7), object(5)\n",
      "memory usage: 10.8+ MB\n"
     ]
    }
   ],
   "source": [
    "data_return.info()"
   ]
  },
  {
   "cell_type": "code",
   "execution_count": 48,
   "metadata": {
    "id": "w5KgpdekAq_a"
   },
   "outputs": [],
   "source": [
    "# save the cleaned dataset to a csv file\n",
    "data.to_csv('ecommerce_customer_data_custom_ratios_cleaned.csv', index=False)"
   ]
  },
  {
   "cell_type": "code",
   "execution_count": null,
   "metadata": {},
   "outputs": [],
   "source": []
  }
 ],
 "metadata": {
  "colab": {
   "authorship_tag": "ABX9TyOteUlv/G5v5nNFC/BKPEGx",
   "provenance": []
  },
  "kernelspec": {
   "display_name": "Python 3 (ipykernel)",
   "language": "python",
   "name": "python3"
  },
  "language_info": {
   "codemirror_mode": {
    "name": "ipython",
    "version": 3
   },
   "file_extension": ".py",
   "mimetype": "text/x-python",
   "name": "python",
   "nbconvert_exporter": "python",
   "pygments_lexer": "ipython3",
   "version": "3.12.4"
  }
 },
 "nbformat": 4,
 "nbformat_minor": 4
}
